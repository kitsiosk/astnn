{
 "cells": [
  {
   "cell_type": "code",
   "execution_count": 1,
   "id": "8913935b-540d-4f62-b592-1ea97eb72feb",
   "metadata": {},
   "outputs": [
    {
     "name": "stderr",
     "output_type": "stream",
     "text": [
      "/Users/konstantinos/Desktop/virtualenvs/astnn/lib/python3.9/site-packages/urllib3/__init__.py:34: NotOpenSSLWarning: urllib3 v2 only supports OpenSSL 1.1.1+, currently the 'ssl' module is compiled with 'LibreSSL 2.8.3'. See: https://github.com/urllib3/urllib3/issues/3020\n",
      "  warnings.warn(\n"
     ]
    }
   ],
   "source": [
    "import pandas as pd\n",
    "import torch\n",
    "import time\n",
    "import numpy as np\n",
    "import warnings\n",
    "from gensim.models.word2vec import Word2Vec\n",
    "from model_siamese import BatchProgramCC\n",
    "from torch.autograd import Variable\n",
    "from sklearn.metrics import precision_recall_fscore_support\n",
    "warnings.filterwarnings('ignore')\n",
    "import sys\n",
    "import argparse\n",
    "import matplotlib.pyplot as plt\n",
    "%load_ext autoreload\n",
    "%autoreload 2"
   ]
  },
  {
   "cell_type": "code",
   "execution_count": 2,
   "id": "cc54d5b1-93c8-4941-ada4-79cd1483f545",
   "metadata": {},
   "outputs": [],
   "source": [
    "def get_batch(dataset, idx, bs):\n",
    "    tmp = dataset.iloc[idx: idx+bs]\n",
    "    x1, x2, labels = [], [], []\n",
    "    for _, item in tmp.iterrows():\n",
    "        x1.append(item['code_x'])\n",
    "        x2.append(item['code_y'])\n",
    "        labels.append([item['label']])\n",
    "    return x1, x2, torch.FloatTensor(labels)"
   ]
  },
  {
   "cell_type": "code",
   "execution_count": 3,
   "id": "af22cbef-9ae5-4867-a691-6a09a15fab2e",
   "metadata": {},
   "outputs": [],
   "source": [
    "# Contrastive loss function\n",
    "def contrastive_loss(embedding1, embedding2, label, margin=1.0):\n",
    "    distance = torch.nn.functional.pairwise_distance(embedding1, embedding2)\n",
    "\n",
    "    loss = torch.mean((1 - label) * 0.5 * torch.pow(distance, 2) +\n",
    "                      label * 0.5 * torch.pow(torch.clamp(margin - distance, min=0.0), 2))\n",
    "    #print(distance) # Should not vanish to zero\n",
    "    return loss"
   ]
  },
  {
   "cell_type": "code",
   "execution_count": 4,
   "id": "ba27be41-5efa-4c84-9d27-dca75c38f733",
   "metadata": {},
   "outputs": [],
   "source": [
    "root = 'data/'\n",
    "lang = 'java'"
   ]
  },
  {
   "cell_type": "code",
   "execution_count": 5,
   "id": "4f37ceaf-3f6c-46ee-b7f2-6e395fc7958d",
   "metadata": {},
   "outputs": [],
   "source": [
    "all_data = pd.read_pickle(root+lang+'/all/blocks.pickle').sample(frac=1)\n",
    "all_data['label'] = 1 - all_data['label']"
   ]
  },
  {
   "cell_type": "code",
   "execution_count": 6,
   "id": "703df9fb-237b-4a26-a92d-75f8dad76dab",
   "metadata": {},
   "outputs": [],
   "source": [
    "word2vec = Word2Vec.load(root+lang+\"/all/embedding/node_w2v_128\").wv\n",
    "MAX_TOKENS = word2vec.vectors.shape[0]\n",
    "EMBEDDING_DIM = word2vec.vectors.shape[1]\n",
    "embeddings = np.zeros((MAX_TOKENS + 1, EMBEDDING_DIM), dtype=\"float32\")\n",
    "embeddings[:word2vec.vectors.shape[0]] = word2vec.vectors"
   ]
  },
  {
   "cell_type": "code",
   "execution_count": 7,
   "id": "13b15eb0-0e6d-43f4-8b8e-d0ea6940fc97",
   "metadata": {},
   "outputs": [],
   "source": [
    "HIDDEN_DIM = 100\n",
    "ENCODE_DIM = 128\n",
    "LABELS = 1\n",
    "EPOCHS = 5\n",
    "BATCH_SIZE = 32\n",
    "USE_GPU = torch.cuda.is_available()\n",
    "\n",
    "all_functionalities = all_data['functionality_id'].unique()\n",
    "all_functionalities.sort()"
   ]
  },
  {
   "cell_type": "code",
   "execution_count": 8,
   "id": "e1580622-3569-496d-aef9-b93911651db1",
   "metadata": {},
   "outputs": [],
   "source": [
    "ii = 2"
   ]
  },
  {
   "cell_type": "code",
   "execution_count": 23,
   "id": "cb2e47b9-687e-4049-a61c-e6a344877c9c",
   "metadata": {},
   "outputs": [],
   "source": [
    "# Initialize model\n",
    "model = BatchProgramCC(EMBEDDING_DIM,HIDDEN_DIM,MAX_TOKENS+1,ENCODE_DIM,LABELS,BATCH_SIZE,\n",
    "                            USE_GPU, embeddings)\n",
    "if USE_GPU:\n",
    "    model.cuda()\n",
    "\n",
    "parameters = model.parameters()\n",
    "#optimizer = torch.optim.Adamax(parameters, lr=0.0001)\n",
    "optimizer = torch.optim.Adam(parameters, lr=1e-3)\n"
   ]
  },
  {
   "cell_type": "code",
   "execution_count": 24,
   "id": "d2721e64-eb48-4e76-b2c6-b3801f21c000",
   "metadata": {},
   "outputs": [
    {
     "data": {
      "text/plain": [
       "Adam (\n",
       "Parameter Group 0\n",
       "    amsgrad: False\n",
       "    betas: (0.9, 0.999)\n",
       "    capturable: False\n",
       "    differentiable: False\n",
       "    eps: 1e-08\n",
       "    foreach: None\n",
       "    fused: None\n",
       "    lr: 0.001\n",
       "    maximize: False\n",
       "    weight_decay: 0\n",
       ")"
      ]
     },
     "execution_count": 24,
     "metadata": {},
     "output_type": "execute_result"
    }
   ],
   "source": [
    "optimizer"
   ]
  },
  {
   "cell_type": "code",
   "execution_count": 25,
   "id": "8cf9563b-4511-484b-9cfe-229a8e7e8c79",
   "metadata": {},
   "outputs": [
    {
     "data": {
      "text/plain": [
       "BatchProgramCC(\n",
       "  (encoder): BatchTreeEncoder(\n",
       "    (embedding): Embedding(2957, 128)\n",
       "    (W_c): Linear(in_features=128, out_features=128, bias=True)\n",
       "  )\n",
       "  (bigru): GRU(128, 100, batch_first=True, bidirectional=True)\n",
       "  (hidden2label): Linear(in_features=200, out_features=1, bias=True)\n",
       "  (batch_norm): BatchNorm1d(200, eps=1e-05, momentum=0.1, affine=True, track_running_stats=True)\n",
       ")"
      ]
     },
     "execution_count": 25,
     "metadata": {},
     "output_type": "execute_result"
    }
   ],
   "source": [
    "model"
   ]
  },
  {
   "cell_type": "code",
   "execution_count": 26,
   "id": "6dd33754-1d75-4ebf-b11d-1bc470933285",
   "metadata": {},
   "outputs": [],
   "source": [
    "train_data_t = all_data[all_data['functionality_id'] != ii]\n",
    "test_data_t = all_data[all_data['functionality_id'] == ii]"
   ]
  },
  {
   "cell_type": "code",
   "execution_count": 27,
   "id": "bf47a166-d816-465f-a473-a3533c304341",
   "metadata": {},
   "outputs": [],
   "source": [
    "margin=50"
   ]
  },
  {
   "cell_type": "code",
   "execution_count": 28,
   "id": "2a142b04-ba1c-4139-abd6-8021375a1efe",
   "metadata": {},
   "outputs": [],
   "source": [
    "prev_epoch_f1 = 0"
   ]
  },
  {
   "cell_type": "code",
   "execution_count": 29,
   "id": "38065fa1-5746-4f23-a7ec-4cd50b57eb89",
   "metadata": {},
   "outputs": [],
   "source": [
    "def eval_model(model, test_data_t):\n",
    "    model.eval()\n",
    "    similarity_scores = []\n",
    "    trues = []\n",
    "    iTest = 0\n",
    "    \n",
    "    while iTest < len(test_data_t):\n",
    "        batch = get_batch(test_data_t, iTest, BATCH_SIZE)\n",
    "        iTest += BATCH_SIZE\n",
    "        test1_inputs, test2_inputs, test_labels = batch\n",
    "        if USE_GPU:\n",
    "            test_labels = test_labels.cuda()\n",
    "    \n",
    "        model.batch_size = len(test_labels)\n",
    "        model.hidden = model.init_hidden()\n",
    "        with torch.no_grad():\n",
    "            embeddings1 = model(test1_inputs)\n",
    "            embeddings2 = model(test2_inputs)\n",
    "        similarity_score = torch.nn.functional.cosine_similarity(embeddings1, embeddings2)\n",
    "    \n",
    "        loss = contrastive_loss(embeddings1, embeddings2, Variable(test_labels), margin=margin)\n",
    "    \n",
    "        # calc testing acc\n",
    "        similarity_scores.extend(similarity_score.cpu())\n",
    "        trues.extend(1 - test_labels.cpu().numpy())\n",
    "    \n",
    "    \n",
    "    trues = np.array(trues)\n",
    "    \n",
    "\n",
    "\n",
    "    max_Acc = -np.inf\n",
    "    for similarity_threshold_int in range(-5, 10):\n",
    "        similarity_threshold = similarity_threshold_int/10\n",
    "        # Classify code pairs based on the similarity score and threshold\n",
    "        predicted_labels = (np.array(similarity_scores) > similarity_threshold)\n",
    "        acc = 1-np.sum(np.abs(predicted_labels-np.transpose(trues)))/trues.shape[0]\n",
    "        P, R, F1, _ = precision_recall_fscore_support(predicted_labels, trues, average='binary', pos_label=1)\n",
    "    \n",
    "    \n",
    "        if acc > max_Acc:\n",
    "            max_Acc = acc\n",
    "            best_similarity_threshold = similarity_threshold\n",
    "\n",
    "    predicted_labels = np.array(similarity_scores) > best_similarity_threshold\n",
    "    p, r, f, _ = precision_recall_fscore_support(trues, predicted_labels, average='binary')\n",
    "    acc = 1-np.sum(np.abs(predicted_labels-np.transpose(trues)))/trues.shape[0]\n",
    "    print(\"F1=%.3f, P=%.3f, R=%.3f, A=%.3f for similarity threshold %0.2f\" % (f, p, r, acc, best_similarity_threshold))\n",
    "\n",
    "\n",
    "    max_F1 = -np.inf\n",
    "    for similarity_threshold_int in range(-5, 10):\n",
    "        similarity_threshold = similarity_threshold_int/10\n",
    "        # Classify code pairs based on the similarity score and threshold\n",
    "        predicted_labels = (np.array(similarity_scores) > similarity_threshold)\n",
    "        acc = 1-np.sum(np.abs(predicted_labels-np.transpose(trues)))/trues.shape[0]\n",
    "        P, R, F1, _ = precision_recall_fscore_support(predicted_labels, trues, average='binary', pos_label=1)\n",
    "    \n",
    "    \n",
    "        if F1 > max_F1:\n",
    "            max_F1 = F1\n",
    "            best_similarity_threshold = similarity_threshold\n",
    "            \n",
    "    predicted_labels = np.array(similarity_scores) > best_similarity_threshold\n",
    "    p, r, f, _ = precision_recall_fscore_support(trues, predicted_labels, average='binary')\n",
    "    acc = 1-np.sum(np.abs(predicted_labels-np.transpose(trues)))/trues.shape[0]\n",
    "    print(\"F1=%.3f, P=%.3f, R=%.3f, A=%.3f for similarity threshold %0.2f\" % (f, p, r, acc, best_similarity_threshold))\n",
    "\n",
    "\n",
    "    sys.stdout.flush()\n",
    "    model.train()\n",
    "    return f, similarity_scores"
   ]
  },
  {
   "cell_type": "code",
   "execution_count": null,
   "id": "9948c90f-618d-4d6a-9d61-5eb5206ef2b6",
   "metadata": {},
   "outputs": [
    {
     "name": "stdout",
     "output_type": "stream",
     "text": [
      "0.0\n",
      "612.69867\n",
      "Clones:\n",
      "[1.4184115 2.0536978 1.2614927 1.380338  1.9560542 2.4514437 2.4777265\n",
      " 1.3758324 1.7622333 2.0515735 3.7107935 1.3163167 1.5071658 2.45116\n",
      " 2.4904187]\n",
      "1.977644\n",
      "Non clones:\n",
      "[2.301823  1.0426943 2.9957225 2.120489  1.8279257 2.8327055 1.9550906\n",
      " 2.9630136 1.4189116 2.4261918 1.2980686 2.5518832 2.4422278 1.3238126\n",
      " 1.9770812 1.299955  2.1208324]\n",
      "2.0528488\n",
      "F1=0.664, P=0.509, R=0.956, A=0.518 for similarity threshold 0.90\n",
      "F1=0.666, P=0.499, R=1.000, A=0.500 for similarity threshold 0.80\n",
      "\n",
      "50.0\n",
      "471.52356\n",
      "Clones:\n",
      "[6.5805573 9.068992  5.33086   5.983592  9.181604  6.856487  7.4570513\n",
      " 5.679143  3.5738306 6.7663627 7.1993346 9.445034  7.7358108 3.6828368\n",
      " 2.020886  3.3397684]\n",
      "6.2438846\n",
      "Non clones:\n",
      "[ 6.1107116  4.2813773 12.069883   7.9062696  6.7129173 10.603179\n",
      "  9.288277   9.8182745 10.172913   6.316908  11.874301   7.994757\n",
      " 10.581822   6.668164   6.334236   8.022442 ]\n",
      "8.422277\n",
      "F1=0.598, P=0.621, R=0.577, A=0.613 for similarity threshold 0.80\n",
      "F1=0.666, P=0.499, R=1.000, A=0.499 for similarity threshold -0.50\n",
      "\n",
      "100.0\n",
      "393.13535\n",
      "Clones:\n",
      "[ 8.854376  10.421094   9.753528   9.061147   8.0219145  6.3255773\n",
      "  7.9583707  9.207806   8.80389    9.757897   6.1134925  7.6818366\n",
      "  8.1505     6.8582683  2.2270758  7.704517   9.694845  10.215139 ]\n",
      "8.156181\n",
      "Non clones:\n",
      "[12.104572  10.207919  10.713025   9.22381   10.394675   6.9005613\n",
      "  8.657335   8.736484  11.126859   8.749412  10.589028   9.262603\n",
      " 10.761113  11.69809  ]\n",
      "9.937535\n",
      "F1=0.557, P=0.702, R=0.462, A=0.633 for similarity threshold 0.80\n",
      "F1=0.666, P=0.499, R=1.000, A=0.499 for similarity threshold -0.50\n",
      "\n",
      "150.0\n",
      "553.624\n",
      "Clones:\n",
      "[ 7.1603684  9.078362   7.09524    4.693516   1.0230492  6.430797\n",
      "  5.2470245  5.6897326  3.8147583 11.309785   7.489346   6.5369573]\n",
      "6.2974114\n",
      "Non clones:\n",
      "[11.361397  11.526937   6.026165  10.229159  13.475506   8.973207\n",
      "  9.646939  12.9779215  9.541293   7.28947    9.519405  12.575956\n",
      " 11.231368  11.595708  11.753444  12.275896   6.7379265 11.464411\n",
      "  3.9267714  8.25395  ]\n",
      "10.019142\n",
      "F1=0.400, P=0.668, R=0.286, A=0.573 for similarity threshold 0.80\n",
      "F1=0.666, P=0.499, R=1.000, A=0.499 for similarity threshold -0.50\n",
      "\n",
      "200.0\n",
      "508.22137\n",
      "Clones:\n",
      "[12.460191   9.837095  10.83415    9.90091    3.825763   3.5219607\n",
      "  4.395325   4.01737    8.965283   7.051086  12.561539   5.943023\n",
      "  5.2803235]\n",
      "7.5841556\n",
      "Non clones:\n",
      "[11.191169   9.949068  12.604322  11.494371  11.75755    8.40874\n",
      " 12.467299  10.428328  12.434344  13.265758  11.0287485 11.21864\n",
      " 11.583799   9.155774  14.966504   7.8086295 12.175613   6.708112\n",
      "  9.377105 ]\n",
      "10.9486265\n",
      "F1=0.600, P=0.804, R=0.478, A=0.681 for similarity threshold 0.80\n",
      "F1=0.667, P=0.659, R=0.676, A=0.663 for similarity threshold 0.70\n",
      "\n",
      "250.0\n",
      "375.44156\n",
      "Clones:\n",
      "[11.91914   9.531817 11.067495  8.439319  9.343688 12.096897 12.771333\n",
      " 11.725462  8.638361 12.865615  4.972412 11.795586  9.43976   3.49741\n",
      "  8.830454  2.554445 12.218053  6.321991]\n",
      "9.334957\n",
      "Non clones:\n",
      "[12.720803  12.91085   10.463649  10.111095  12.2011175 12.708817\n",
      " 13.144365  11.004216  12.010082  13.17718   11.895331  12.848641\n",
      " 12.401932  12.374865 ]\n",
      "12.140924\n",
      "F1=0.564, P=0.782, R=0.441, A=0.659 for similarity threshold 0.80\n",
      "F1=0.677, P=0.583, R=0.807, A=0.615 for similarity threshold 0.40\n",
      "\n",
      "300.0\n",
      "503.9825\n",
      "Clones:\n",
      "[ 6.2190185 12.420666  11.716978   8.875924  11.775984   9.159158\n",
      "  3.614002  10.035592  10.844711   7.5194836  7.639663  10.320183\n",
      "  6.6693845]\n",
      "8.985442\n",
      "Non clones:\n",
      "[ 8.403199   2.7489364 12.547705  14.870012   8.5199    11.862467\n",
      "  7.358252  11.5772705 11.120446   9.6594515 11.590509   7.425701\n",
      " 13.137333   8.876394   9.763635  11.145821  11.013387  13.457085\n",
      "  9.838191 ]\n",
      "10.258721\n",
      "F1=0.642, P=0.682, R=0.607, A=0.662 for similarity threshold 0.50\n",
      "F1=0.667, P=0.607, R=0.740, A=0.631 for similarity threshold 0.40\n",
      "\n",
      "350.0\n",
      "400.1823\n",
      "Clones:\n",
      "[11.139854   9.419821  10.339826   9.776336   6.4425745 12.232693\n",
      "  6.6452074  8.839409  11.395873   8.728934  10.672662   8.060987\n",
      "  6.835841   8.52716    4.0985007  4.535089  10.159394 ]\n",
      "8.697068\n",
      "Non clones:\n",
      "[13.507033 13.586425 13.012484 13.175541 13.357917 11.338966 10.891533\n",
      " 12.920267 12.087017 13.337925 11.764447  9.336566  8.908313 13.106923\n",
      " 13.498462]\n",
      "12.255321\n",
      "F1=0.747, P=0.806, R=0.696, A=0.764 for similarity threshold 0.50\n",
      "F1=0.758, P=0.666, R=0.881, A=0.720 for similarity threshold 0.20\n",
      "\n",
      "400.0\n",
      "494.84796\n",
      "Clones:\n",
      "[ 1.9230583  2.230265   1.4554431 10.123573   6.7914114 10.495561\n",
      "  6.2064056 11.692802  12.01935    9.43179   11.621682  10.213645\n",
      " 12.447068 ]\n",
      "8.204004\n",
      "Non clones:\n",
      "[12.858867  9.307042 12.900997 12.321292  9.294783 10.257943 10.052015\n",
      " 13.538764 10.033799 12.544669 13.033681 11.713419 10.822889 10.403446\n",
      " 10.378055 12.7586   11.641305 17.926275 11.73134 ]\n",
      "11.764167\n",
      "F1=0.748, P=0.708, R=0.793, A=0.734 for similarity threshold 0.70\n",
      "F1=0.748, P=0.708, R=0.793, A=0.734 for similarity threshold 0.70\n",
      "\n",
      "450.0\n",
      "381.28717\n",
      "Clones:\n",
      "[10.020716   5.9613585 10.701582  12.529357   8.1201515  6.350417\n",
      "  9.101397  12.518941   6.098661   6.6520767  7.3272815  5.809137\n",
      " 11.850499   6.3233304  6.3111997 18.445179   6.5247755 11.009505 ]\n",
      "8.980865\n",
      "Non clones:\n",
      "[10.751359  8.344366 12.274574 13.723822  8.308086 10.427519 13.095958\n",
      " 13.639648  9.775863 13.219919 12.677146 13.71963   9.196097 13.567069]\n",
      "11.622932\n",
      "F1=0.726, P=0.825, R=0.648, A=0.756 for similarity threshold 0.60\n",
      "F1=0.746, P=0.649, R=0.876, A=0.702 for similarity threshold 0.20\n",
      "\n",
      "500.0\n",
      "418.3319\n",
      "Clones:\n",
      "[10.265189   1.8516954 18.172892   9.658645  11.470136   9.909553\n",
      " 11.401234  10.305434   6.222868   5.7580814  6.227316  15.969024\n",
      "  9.177595  13.231192   4.405886   8.389648 ]\n",
      "9.526024\n",
      "Non clones:\n",
      "[12.4442625 13.881838  13.180378  12.759081  13.455285  12.598391\n",
      " 11.986751  13.287736  13.157493   7.011199  10.30705   13.705684\n",
      " 12.83314   12.602808   8.540341  13.309574 ]\n",
      "12.191313\n",
      "F1=0.713, P=0.797, R=0.644, A=0.740 for similarity threshold 0.60\n",
      "F1=0.713, P=0.797, R=0.644, A=0.740 for similarity threshold 0.60\n",
      "\n",
      "550.0\n",
      "392.21176\n",
      "Clones:\n",
      "[11.987282   5.925839   2.6657345  8.840706   5.4692845 12.473505\n",
      "  5.050948   4.547272   3.2240446 12.320896  13.158344   3.8299549\n",
      "  9.4444065  5.3404026 17.667387   6.2199225  5.6455145 11.460211 ]\n",
      "8.070646\n",
      "Non clones:\n",
      "[ 6.014836 10.798473 10.531381 12.954028 11.356302  9.279255 12.99992\n",
      " 11.81764   6.285858 10.62183  13.461023 13.657282 13.606573 13.459298]\n",
      "11.20312\n",
      "F1=0.670, P=0.780, R=0.588, A=0.711 for similarity threshold 0.80\n",
      "F1=0.722, P=0.617, R=0.870, A=0.665 for similarity threshold 0.50\n",
      "\n",
      "600.0\n",
      "501.24957\n",
      "Clones:\n",
      "[ 8.92746    7.6616144 11.996457  14.138429   3.3748016 13.042284\n",
      " 12.396223  10.74511    9.714797   6.124251   6.234264   7.2253304]\n",
      "9.298419\n",
      "Non clones:\n",
      "[13.6917305 18.537329   4.8339806 11.993297  13.376434   9.899478\n",
      " 13.443386   9.605354  12.590843   9.230022  13.626274  13.121947\n",
      " 13.148006  13.716186  12.504504  11.634686  10.844127  13.507686\n",
      " 11.606192  12.034251 ]\n",
      "12.147286\n",
      "F1=0.753, P=0.832, R=0.688, A=0.775 for similarity threshold 0.60\n",
      "F1=0.753, P=0.832, R=0.688, A=0.775 for similarity threshold 0.60\n",
      "\n",
      "650.0\n",
      "350.61157\n",
      "Clones:\n",
      "[ 9.568362  10.352868   7.380146   9.574506   8.994289  11.136391\n",
      " 13.697254  11.005968   7.0781336 13.528322   9.5872965  8.058618\n",
      "  6.4639    11.937931   9.134994  13.22956    9.248878   5.072981\n",
      "  5.3533287]\n",
      "9.494932\n",
      "Non clones:\n",
      "[13.596131  13.597149  13.746193  12.428795  11.392513  13.436508\n",
      " 13.6133175 13.381637  11.682854  11.368461  11.168707   9.985679\n",
      " 13.937057 ]\n",
      "12.56423\n",
      "F1=0.724, P=0.818, R=0.648, A=0.753 for similarity threshold 0.60\n",
      "F1=0.724, P=0.818, R=0.648, A=0.753 for similarity threshold 0.60\n",
      "\n",
      "700.0\n",
      "309.18195\n",
      "Clones:\n",
      "[ 7.644022  11.029296  10.352651  10.475218   8.956099   9.110904\n",
      " 10.35968   11.057332   9.2426815  4.893663  12.255314  13.368575\n",
      " 10.757471  12.446343   7.975271   9.927135   9.668405   3.3147664\n",
      "  6.166273   5.156998  10.1150875]\n",
      "9.251104\n",
      "Non clones:\n",
      "[13.831284 11.379447 13.76072  18.608753 11.264075 13.911384 13.917584\n",
      "  8.912668 11.816916 11.546063 10.973166]\n",
      "12.720187\n",
      "F1=0.594, P=0.725, R=0.504, A=0.657 for similarity threshold 0.60\n",
      "F1=0.697, P=0.584, R=0.864, A=0.625 for similarity threshold 0.20\n",
      "\n",
      "750.0\n",
      "313.1748\n",
      "Clones:\n",
      "[ 7.691744   6.8238544 11.73951    7.268105   4.298574  13.3671055\n",
      "  9.187584   7.144635   7.539762   3.1141558 11.000962  13.851324\n",
      " 14.395969   6.8504047  6.233256  10.455569   7.01368    9.213319\n",
      "  6.6670957  7.4946213 12.388674 ]\n",
      "8.74952\n",
      "Non clones:\n",
      "[13.9060755 19.641619  13.198941  11.797963  13.120334  10.180498\n",
      "  6.84092   11.104616  13.085664  13.890106  13.917921 ]\n",
      "12.789515\n",
      "F1=0.662, P=0.826, R=0.552, A=0.718 for similarity threshold 0.70\n",
      "F1=0.730, P=0.627, R=0.873, A=0.678 for similarity threshold 0.30\n",
      "\n"
     ]
    }
   ],
   "source": [
    "for epoch in range(5):\n",
    "    loss_arr_train = []\n",
    "    i = 0\n",
    "    while i < len(train_data_t):\n",
    "        model.train()\n",
    "        batch = get_batch(train_data_t, i, BATCH_SIZE)\n",
    "        train1_inputs, train2_inputs, train_labels = batch\n",
    "        if USE_GPU:\n",
    "            train1_inputs, train2_inputs, train_labels = train1_inputs, train2_inputs, train_labels.cuda()\n",
    "    \n",
    "        model.zero_grad()\n",
    "        model.batch_size = len(train_labels)\n",
    "        model.hidden = model.init_hidden()\n",
    "    \n",
    "        embeddings1 = model(train1_inputs)\n",
    "        embeddings2 = model(train2_inputs)\n",
    "    \n",
    "        loss = contrastive_loss(embeddings1, embeddings2, Variable(train_labels), margin=margin)\n",
    "        loss.backward()\n",
    "        optimizer.step()\n",
    "    \n",
    "        loss_arr_train.append(loss.detach().numpy())\n",
    "        if (i/BATCH_SIZE) % 50 == 0:\n",
    "            print(i/BATCH_SIZE)\n",
    "            print(loss.detach().numpy())\n",
    "            t1 = torch.nn.functional.pairwise_distance(embeddings1, embeddings2).detach().numpy()\n",
    "            t2 = train_labels.cpu()\n",
    "\n",
    "            idx_clones = (t2 == 0).squeeze()\n",
    "            idx_non_clones = (t2 == 1).squeeze()\n",
    "            print(\"Clones:\")\n",
    "            print(t1[idx_clones])\n",
    "            print(t1[idx_clones].mean())\n",
    "            print(\"Non clones:\")\n",
    "            print(t1[idx_non_clones])\n",
    "            print(t1[idx_non_clones].mean())\n",
    "\n",
    "            f, similarity_scores = eval_model(model, test_data_t)\n",
    "            print()\n",
    "        i += BATCH_SIZE\n",
    "\n",
    "    \n",
    "    f, similarity_scores = eval_model(model, test_data_t)\n",
    "\n",
    "    if f<prev_epoch_f1:\n",
    "        print(\"Lower F1 than previous epoch. Early stopping...\")\n",
    "        sys.stdout.flush()\n",
    "        break\n",
    "    else:\n",
    "        prev_epoch_f1 = f"
   ]
  },
  {
   "cell_type": "code",
   "execution_count": null,
   "id": "e7fdbc28-f331-45a6-8dda-d53b1975b143",
   "metadata": {},
   "outputs": [],
   "source": []
  },
  {
   "cell_type": "code",
   "execution_count": null,
   "id": "57b9100c-cc7f-4b3c-8527-b0c1de461761",
   "metadata": {},
   "outputs": [],
   "source": []
  },
  {
   "cell_type": "code",
   "execution_count": null,
   "id": "8d7ba7cc-3a1c-46c7-9af6-a34cdb8da09f",
   "metadata": {},
   "outputs": [],
   "source": []
  },
  {
   "cell_type": "code",
   "execution_count": 21,
   "id": "ee851edb-da95-42df-b268-1ead628d6dac",
   "metadata": {},
   "outputs": [
    {
     "name": "stdout",
     "output_type": "stream",
     "text": [
      "F1=0.625, P=0.646, R=0.606, A=0.637 for similarity threshold 0.80\n",
      "F1=0.666, P=0.499, R=1.000, A=0.499 for similarity threshold -0.50\n"
     ]
    }
   ],
   "source": [
    "_, similarity_scores = eval_model(model, test_data_t)"
   ]
  },
  {
   "cell_type": "code",
   "execution_count": 22,
   "id": "6112657a-5f88-4974-9f6d-f6246f9f5a94",
   "metadata": {},
   "outputs": [
    {
     "data": {
      "text/plain": [
       "[<matplotlib.lines.Line2D at 0x32ee45640>]"
      ]
     },
     "execution_count": 22,
     "metadata": {},
     "output_type": "execute_result"
    },
    {
     "data": {
      "image/png": "[encoded data removed]",
      "text/plain": [
       "<Figure size 640x480 with 1 Axes>"
      ]
     },
     "metadata": {},
     "output_type": "display_data"
    }
   ],
   "source": [
    "test_labels = np.array(test_data_t['label'])\n",
    "similarity_scores = np.array(similarity_scores)\n",
    "plt.plot(np.sort(similarity_scores[test_labels == 0]), 'ro', markersize=1)\n",
    "plt.plot(np.sort(similarity_scores[test_labels == 1]), 'bx', markersize=1)"
   ]
  },
  {
   "cell_type": "code",
   "execution_count": null,
   "id": "328f0a21-6b7f-4cdf-9889-991ab1eee1e8",
   "metadata": {},
   "outputs": [],
   "source": []
  },
  {
   "cell_type": "code",
   "execution_count": 19,
   "id": "6f275707-7cff-48b4-89eb-6247fa696b09",
   "metadata": {},
   "outputs": [
    {
     "data": {
      "text/plain": [
       "[<matplotlib.lines.Line2D at 0x3b4283850>]"
      ]
     },
     "execution_count": 19,
     "metadata": {},
     "output_type": "execute_result"
    },
    {
     "data": {
      "image/png": "[encoded data removed]",
      "text/plain": [
       "<Figure size 640x480 with 1 Axes>"
      ]
     },
     "metadata": {},
     "output_type": "display_data"
    }
   ],
   "source": [
    "plt.plot(similarity_scores, 'ro', markersize=1)"
   ]
  },
  {
   "cell_type": "code",
   "execution_count": 41,
   "id": "6493b987-0352-4d0a-b713-ece6a97ce18e",
   "metadata": {},
   "outputs": [
    {
     "name": "stdout",
     "output_type": "stream",
     "text": [
      "(P,R,F1,A):0.500, 0.965, 0.659, 0.500\n"
     ]
    }
   ],
   "source": [
    "predicted_labels = np.array(similarity_scores) > 0.9\n",
    "\n",
    "trues = test_data_t['label']\n",
    "p, r, f, _ = precision_recall_fscore_support(trues, predicted_labels, average='binary')\n",
    "acc = 1-np.sum(np.abs(predicted_labels-np.transpose(trues)))/trues.shape[0]\n",
    "print(\"(P,R,F1,A):%.3f, %.3f, %.3f, %.3f\" % (p, r, f, acc))"
   ]
  },
  {
   "cell_type": "code",
   "execution_count": null,
   "id": "546ec4f6-14b7-42cf-92fc-175858d641c6",
   "metadata": {},
   "outputs": [],
   "source": []
  }
 ],
 "metadata": {
  "kernelspec": {
   "display_name": "Python 3 (ipykernel)",
   "language": "python",
   "name": "python3"
  },
  "language_info": {
   "codemirror_mode": {
    "name": "ipython",
    "version": 3
   },
   "file_extension": ".py",
   "mimetype": "text/x-python",
   "name": "python",
   "nbconvert_exporter": "python",
   "pygments_lexer": "ipython3",
   "version": "3.9.6"
  }
 },
 "nbformat": 4,
 "nbformat_minor": 5
}
